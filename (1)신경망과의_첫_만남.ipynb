{
  "nbformat": 4,
  "nbformat_minor": 0,
  "metadata": {
    "colab": {
      "provenance": [],
      "authorship_tag": "ABX9TyPk8TFwlDnysKI31PrqW5nT",
      "include_colab_link": true
    },
    "kernelspec": {
      "name": "python3",
      "display_name": "Python 3"
    },
    "language_info": {
      "name": "python"
    }
  },
  "cells": [
    {
      "cell_type": "markdown",
      "metadata": {
        "id": "view-in-github",
        "colab_type": "text"
      },
      "source": [
        "<a href=\"https://colab.research.google.com/github/padong2023/programing_high_level/blob/main/(1)%EC%8B%A0%EA%B2%BD%EB%A7%9D%EA%B3%BC%EC%9D%98_%EC%B2%AB_%EB%A7%8C%EB%82%A8.ipynb\" target=\"_parent\"><img src=\"https://colab.research.google.com/assets/colab-badge.svg\" alt=\"Open In Colab\"/></a>"
      ]
    },
    {
      "cell_type": "code",
      "execution_count": null,
      "metadata": {
        "colab": {
          "base_uri": "https://localhost:8080/",
          "height": 35
        },
        "id": "Xm-5ynBG3RPB",
        "outputId": "0f1e610d-0f3c-4771-f026-719bf1626a29"
      },
      "outputs": [
        {
          "output_type": "execute_result",
          "data": {
            "text/plain": [
              "'2.12.0'"
            ],
            "application/vnd.google.colaboratory.intrinsic+json": {
              "type": "string"
            }
          },
          "metadata": {},
          "execution_count": 1
        }
      ],
      "source": [
        "import keras\n",
        "keras.__version__"
      ]
    },
    {
      "cell_type": "markdown",
      "source": [
        "## 신경망과의 첫 만남\n",
        "\n",
        "케라스 파이썬 라이브러리를 사용하여 손글씨 숫자 분류를 학습하는 구체적인 신경망 예제를 살펴보겠습니다. 케라스나 비슷한 라이브러리를 사용한 경험이 없다면 당장은 이 첫 번째 예제를 모두 이해하지 못할 것입니다. 아직 케라스를 설치하지 않았을지도 모릅니다. 괜찮습니다. 다음 장에서 이 예제를 하나하나 자세히 설명합니다. 코드가 좀 이상하거나 요술처럼 보이더라도 너무 걱정하지 마세요. 일단 시작해 보겠습니다.\n",
        "\n",
        "여기에서 풀려고 하는 문제는 흑백 손글씨 숫자 이미지(28x28 픽셀)를 10개의 범주(0에서 9까지)로 분류하는 것입니다. 머신 러닝 커뮤니티에서 고전으로 취급받는 데이터셋인 MNIST를 사용하겠습니다. 이 데이터셋은 머신 러닝의 역사만큼 오래되었고 많은 연구에 사용되었습니다. 이 데이터셋은 1980년대에 미국 국립표준기술연구소에서 수집한 6만 개의 훈련 이미지와 1만 개의 테스트 이미지로 구성되어 있습니다. MNIST 문제를 알고리즘이 제대로 작동하는지 확인하기 위한 딥러닝계의 ‘Hello World’라고 생각해도 됩니다. 머신 러닝 기술자가 되기까지 연구 논문이나 블로그 포스트 등에서 MNIST를 보고 또 보게 될 것입니다.\n",
        "\n",
        "MNIST 데이터셋은 넘파이 배열 형태로 케라스에 이미 포함되어 있습니다:"
      ],
      "metadata": {
        "id": "QV252Z2iQUQC"
      }
    },
    {
      "cell_type": "code",
      "source": [
        "from keras.datasets import mnist\n",
        "\n",
        "(train_images, train_labels), (test_images, test_labels) = mnist.load_data()"
      ],
      "metadata": {
        "colab": {
          "base_uri": "https://localhost:8080/"
        },
        "id": "JgE3VsM3QSrY",
        "outputId": "a1c22d31-c831-4a68-8b98-94349a3a4c4a"
      },
      "execution_count": null,
      "outputs": [
        {
          "output_type": "stream",
          "name": "stdout",
          "text": [
            "Downloading data from https://storage.googleapis.com/tensorflow/tf-keras-datasets/mnist.npz\n",
            "11490434/11490434 [==============================] - 0s 0us/step\n"
          ]
        }
      ]
    },
    {
      "cell_type": "markdown",
      "source": [
        "**train_images**와 **train_labels**가 모델이 학습해야 할 훈련 세트를 구성합니다. 모델은 **test_images**와 **test_labels**로 구성된 테스트 세트에서 테스트될 것입니다. 이미지는 넘파이 배열로 인코딩되어 있고 레이블은 0에서부터 9까지의 숫자 배열입니다. 이미지와 레이블은 일대일 관계를 가집니다.\n",
        "\n",
        "\n",
        "# 먼저 훈련 데이터를 살펴보겠습니다:"
      ],
      "metadata": {
        "id": "G-0kAByoQg4R"
      }
    },
    {
      "cell_type": "code",
      "source": [
        "train_images.shape"
      ],
      "metadata": {
        "colab": {
          "base_uri": "https://localhost:8080/"
        },
        "id": "jNfxhkT5Qd3y",
        "outputId": "a4618334-63f9-43b4-9fa8-23de2447bf9b"
      },
      "execution_count": null,
      "outputs": [
        {
          "output_type": "execute_result",
          "data": {
            "text/plain": [
              "(60000, 28, 28)"
            ]
          },
          "metadata": {},
          "execution_count": 3
        }
      ]
    },
    {
      "cell_type": "code",
      "source": [
        "len(train_labels)"
      ],
      "metadata": {
        "colab": {
          "base_uri": "https://localhost:8080/"
        },
        "id": "EmJrfcjDQ_21",
        "outputId": "e255ba7a-941b-4b96-9dc5-dbac4ad09e2d"
      },
      "execution_count": null,
      "outputs": [
        {
          "output_type": "execute_result",
          "data": {
            "text/plain": [
              "60000"
            ]
          },
          "metadata": {},
          "execution_count": 4
        }
      ]
    },
    {
      "cell_type": "code",
      "source": [
        "train_labels"
      ],
      "metadata": {
        "colab": {
          "base_uri": "https://localhost:8080/"
        },
        "id": "j7Akbbv7RCKC",
        "outputId": "22046f33-e244-40b3-fa98-f89589c3ca49"
      },
      "execution_count": null,
      "outputs": [
        {
          "output_type": "execute_result",
          "data": {
            "text/plain": [
              "array([5, 0, 4, ..., 5, 6, 8], dtype=uint8)"
            ]
          },
          "metadata": {},
          "execution_count": 5
        }
      ]
    },
    {
      "cell_type": "markdown",
      "source": [
        "# 다음은 테스트 데이터입니다:)"
      ],
      "metadata": {
        "id": "ceoI2AdwRQSb"
      }
    },
    {
      "cell_type": "code",
      "source": [
        "test_images.shape"
      ],
      "metadata": {
        "colab": {
          "base_uri": "https://localhost:8080/"
        },
        "id": "sEybpZV3RE-G",
        "outputId": "716241bb-dccf-4643-8444-0742204985a4"
      },
      "execution_count": null,
      "outputs": [
        {
          "output_type": "execute_result",
          "data": {
            "text/plain": [
              "(10000, 28, 28)"
            ]
          },
          "metadata": {},
          "execution_count": 6
        }
      ]
    },
    {
      "cell_type": "code",
      "source": [
        "len(test_labels)"
      ],
      "metadata": {
        "colab": {
          "base_uri": "https://localhost:8080/"
        },
        "id": "8zgAdY4jRF3Z",
        "outputId": "5b8f8d5b-ec62-4112-9509-0d3d8bc545dd"
      },
      "execution_count": null,
      "outputs": [
        {
          "output_type": "execute_result",
          "data": {
            "text/plain": [
              "10000"
            ]
          },
          "metadata": {},
          "execution_count": 7
        }
      ]
    },
    {
      "cell_type": "code",
      "source": [
        "test_labels"
      ],
      "metadata": {
        "colab": {
          "base_uri": "https://localhost:8080/"
        },
        "id": "y-RGsn6qRIvr",
        "outputId": "e9b4d3ac-03b6-42b9-f458-1a3c4d56216f"
      },
      "execution_count": null,
      "outputs": [
        {
          "output_type": "execute_result",
          "data": {
            "text/plain": [
              "array([7, 2, 1, ..., 4, 5, 6], dtype=uint8)"
            ]
          },
          "metadata": {},
          "execution_count": 8
        }
      ]
    },
    {
      "cell_type": "markdown",
      "source": [
        "# 다섯 번째 샘플을 맷플롯립 라이브러리를 사용해 확인해 보겠습니다."
      ],
      "metadata": {
        "id": "u8Ky337JRWCN"
      }
    },
    {
      "cell_type": "code",
      "source": [
        "import matplotlib.pyplot as plt"
      ],
      "metadata": {
        "id": "8hX4tqFVRXO6"
      },
      "execution_count": null,
      "outputs": []
    },
    {
      "cell_type": "code",
      "source": [
        "digit = train_images[4]       # 배열의 시작은 0부터로 다섯 번째는 [4]가 되겠습니다~!\n",
        "\n",
        "plt.imshow(digit, cmap=plt.cm.binary)\n",
        "plt.show()"
      ],
      "metadata": {
        "colab": {
          "base_uri": "https://localhost:8080/",
          "height": 430
        },
        "id": "3EGIn8ULRZLU",
        "outputId": "5b764abd-5154-4882-a314-6bf1835b5dad"
      },
      "execution_count": null,
      "outputs": [
        {
          "output_type": "display_data",
          "data": {
            "text/plain": [
              "<Figure size 640x480 with 1 Axes>"
            ],
            "image/png": "[encoded data removed]"
          },
          "metadata": {}
        }
      ]
    },
    {
      "cell_type": "markdown",
      "source": [
        "작업 순서는 다음과 같습니다. 먼저 훈련 데이터 **train_images**와 **train_labels**를 네트워크에 주입합니다. 그러면 네트워크는 이미지와 레이블을 연관시킬 수 있도록 학습됩니다. 마지막으로 **test_images**에 대한 예측을 네트워크에게 요청합니다. 그리고 이 예측이 **test_labels**와 맞는지 확인할 것입니다.\n",
        "\n",
        "# 신경망을 만들어 보겠습니다. 여기에서도 다음 코드를 완전히 이해하지 않아도 괜찮습니다."
      ],
      "metadata": {
        "id": "0vMGxzMKRugB"
      }
    },
    {
      "cell_type": "code",
      "source": [
        "from keras import models\n",
        "from keras import layers\n",
        "\n",
        "network = models.Sequential()\n",
        "network.add(layers.Dense(512, activation='relu', input_shape=(28 * 28,)))\n",
        "network.add(layers.Dense(10, activation='softmax'))"
      ],
      "metadata": {
        "id": "BdPop-ivR3MU"
      },
      "execution_count": null,
      "outputs": []
    },
    {
      "cell_type": "markdown",
      "source": [
        "![keras 신경망 이미지.jpg](data:image/jpeg;base64,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)\n",
        "\n",
        "신경망의 핵심 구성 요소는 일종의 데이터 처리 필터라고 생각할 수 있는 층입니다. 어떤 데이터가 들어가면 더 유용한 형태로 출력됩니다. 조금 더 구체적으로 층은 주어진 문제에 더 의미 있는 표현을 입력된 데이터로부터 추출합니다. 대부분의 딥러닝은 간단한 층을 연결하여 구성되어 있고, 점진적으로 데이터를 정제하는 형태를 띠고 있습니다. 딥러닝 모델은 데이터 정제 필터(층)가 연속되어 있는 데이터 프로세싱을 위한 여과기와 같습니다.\n",
        "\n",
        "이 예에서는 조밀하게 연결된 (또는 완전 연결된) 신경망 층인 Dense 층 2개가 연속되어 있습니다. 두 번째 (즉, 마지막) 층은 10개의 확률 점수가 들어 있는 배열(모두 더하면 1입니다)을 반환하는 소프트맥스 층입니다. 각 점수는 현재 숫자 이미지가 10개의 숫자 클래스 중 하나에 속할 확률입니다.\n",
        "\n",
        "신경망이 훈련 준비를 마치기 위해서 컴파일 단계에 포함될 세 가지가 더 필요합니다:\n",
        "\n",
        "손실 함수 : 훈련 데이터에서 신경망의 성능을 측정하는 방법으로 네트워크가 옳은 방향으로 학습될 수 있도록 도와 줍니다.\n",
        "옵티마이저: 입력된 데이터와 손실 함수를 기반으로 네트워크를 업데이트하는 메커니즘입니다.\n",
        "훈련과 테스트 과정을 모니터링할 지표 : 여기에서는 정확도(정확히 분류된 이미지의 비율)만 고려하겠습니다."
      ],
      "metadata": {
        "id": "tAyvSoQGSTBo"
      }
    },
    {
      "cell_type": "code",
      "source": [
        "network.compile(optimizer='rmsprop',\n",
        "                loss='categorical_crossentropy',\n",
        "                metrics=['accuracy'])"
      ],
      "metadata": {
        "id": "6DoopgCvStzP"
      },
      "execution_count": null,
      "outputs": []
    },
    {
      "cell_type": "markdown",
      "source": [
        "훈련을 시작하기 전에 데이터를 네트워크에 맞는 크기로 바꾸고 모든 값을 0과 1 사이로 스케일을 조정합니다. 예를 들어, 앞서 우리의 훈련 이미지는 [0, 255] 사이의 값인 uint8 타입의 (60000, 28, 28) 크기를 가진 배열로 저장되어 있습니다. 이 데이터를 0과 1 사이의 값을 가지는 float32 타입의 (60000, 28 * 28) 크기의 배열로 바꿉니다."
      ],
      "metadata": {
        "id": "PQrxFL84To6m"
      }
    },
    {
      "cell_type": "code",
      "source": [
        "train_images = train_images.reshape((60000, 28 * 28))\n",
        "train_images = train_images.astype('float32') / 255\n",
        "\n",
        "test_images = test_images.reshape((10000, 28 * 28))\n",
        "test_images = test_images.astype('float32') / 255"
      ],
      "metadata": {
        "id": "jR1z6z-MTobA"
      },
      "execution_count": null,
      "outputs": []
    },
    {
      "cell_type": "markdown",
      "source": [
        "또한, 레이블을 범주형으로 인코딩해야 합니다. 이 내용은 추후에 자세히 설명하겠습니다:"
      ],
      "metadata": {
        "id": "F9DrnJi9T0rZ"
      }
    },
    {
      "cell_type": "code",
      "source": [
        "from keras.utils import to_categorical\n",
        "\n",
        "train_labels = to_categorical(train_labels)\n",
        "test_labels = to_categorical(test_labels)"
      ],
      "metadata": {
        "id": "bCDoSwByTvvA"
      },
      "execution_count": null,
      "outputs": []
    },
    {
      "cell_type": "markdown",
      "source": [
        "이제 신경망을 훈련시킬 준비가 되었습니다. 케라스에서는 fit 메서드를 호출하여 훈련 데이터에 모델을 학습시킵니다:"
      ],
      "metadata": {
        "id": "tFAxBLzkT7ff"
      }
    },
    {
      "cell_type": "code",
      "source": [
        "network.fit(train_images, train_labels, epochs=5, batch_size=128)"
      ],
      "metadata": {
        "colab": {
          "base_uri": "https://localhost:8080/"
        },
        "id": "zxLeIEzQT9-N",
        "outputId": "b7fd0629-19c7-482e-c516-b648739b877d"
      },
      "execution_count": null,
      "outputs": [
        {
          "output_type": "stream",
          "name": "stdout",
          "text": [
            "Epoch 1/5\n",
            "469/469 [==============================] - 6s 12ms/step - loss: 0.2648 - accuracy: 0.9241\n",
            "Epoch 2/5\n",
            "469/469 [==============================] - 5s 10ms/step - loss: 0.1073 - accuracy: 0.9681\n",
            "Epoch 3/5\n",
            "469/469 [==============================] - 4s 9ms/step - loss: 0.0710 - accuracy: 0.9786\n",
            "Epoch 4/5\n",
            "469/469 [==============================] - 5s 12ms/step - loss: 0.0510 - accuracy: 0.9851\n",
            "Epoch 5/5\n",
            "469/469 [==============================] - 4s 9ms/step - loss: 0.0384 - accuracy: 0.9890\n"
          ]
        },
        {
          "output_type": "execute_result",
          "data": {
            "text/plain": [
              "<keras.callbacks.History at 0x7e506a9970d0>"
            ]
          },
          "metadata": {},
          "execution_count": 15
        }
      ]
    },
    {
      "cell_type": "markdown",
      "source": [
        "훈련하는 동안 두 개의 정보가 출력됩니다. 훈련 데이터에 대한 네트워크의 손실과 정확도입니다.\n",
        "\n",
        "훈련 데이터에 대해 0.989(98.9%)의 정확도를 금방 달성합니다. 이제 테스트 세트에서도 모델이 잘 작동하는지 확인해 보겠습니다:"
      ],
      "metadata": {
        "id": "gH_4R3t8UNg0"
      }
    },
    {
      "cell_type": "code",
      "source": [
        "test_loss, test_acc = network.evaluate(test_images, test_labels)"
      ],
      "metadata": {
        "colab": {
          "base_uri": "https://localhost:8080/"
        },
        "id": "xdmM027iULtU",
        "outputId": "d07fd48c-d92d-4527-a412-0cd03533c409"
      },
      "execution_count": null,
      "outputs": [
        {
          "output_type": "stream",
          "name": "stdout",
          "text": [
            "313/313 [==============================] - 2s 4ms/step - loss: 0.0638 - accuracy: 0.9786\n"
          ]
        }
      ]
    },
    {
      "cell_type": "code",
      "source": [
        "print('test_acc:', test_acc)"
      ],
      "metadata": {
        "colab": {
          "base_uri": "https://localhost:8080/"
        },
        "id": "bdF36wkcUIi_",
        "outputId": "c541ba0a-f7fa-4697-e367-ecd86157dd3f"
      },
      "execution_count": null,
      "outputs": [
        {
          "output_type": "stream",
          "name": "stdout",
          "text": [
            "test_acc: 0.978600025177002\n"
          ]
        }
      ]
    },
    {
      "cell_type": "markdown",
      "source": [
        "테스트 세트의 정확도는 97.8%로 나왔습니다. 훈련 세트 정확도보다는 약간 낮습니다. 훈련 정확도와 테스트 정확도 사이의 차이는 과대적합 때문입니다. 이는 머신 러닝 모델이 훈련 데이터보다 새로운 데이터에서 성능이 낮아지는 경향을 말합니다.\n",
        "\n",
        "이로써 우리는 20줄 미만의 파이썬 코드로 손글씨 숫자를 분류하는 신경망을 만들고 훈련시켰습니다."
      ],
      "metadata": {
        "id": "d0YfHxgfUYWQ"
      }
    }
  ]
}